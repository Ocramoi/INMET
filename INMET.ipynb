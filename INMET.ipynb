{
 "cells": [
  {
   "cell_type": "markdown",
   "metadata": {},
   "source": [
    "### Importa os módulos necessários:"
   ]
  },
  {
   "cell_type": "code",
   "execution_count": 1,
   "metadata": {},
   "outputs": [],
   "source": [
    "# Importa pandas como pd:\n",
    "import pandas as pd\n",
    "# Importa metodos_descritivos como mdes: \n",
    "import metodos_descritivos as mdes"
   ]
  },
  {
   "cell_type": "markdown",
   "metadata": {},
   "source": [
    "# Prepara os dados:"
   ]
  },
  {
   "cell_type": "code",
   "execution_count": null,
   "metadata": {},
   "outputs": [],
   "source": [
    "# Definindo os parâmetros\n",
    "media = x  # Média desejada\n",
    "variancia = v  # Variância desejada\n",
    "desvio_padrao = np.sqrt(variancia)  # Desvio padrão é a raiz quadrada da variância\n",
    "\n",
    "# Gerando números aleatórios com distribuição normal\n",
    "tamanho = 1000  # Número de amostras desejadas\n",
    "numeros_aleatorios = np.random.normal(loc=media, scale=desvio_padrao, size=tamanho)\n",
    "\n",
    "# Exibindo os primeiros valores gerados\n",
    "print(numeros_aleatorios[:10])"
   ]
  },
  {
   "cell_type": "code",
   "execution_count": 2,
   "metadata": {},
   "outputs": [],
   "source": [
    "# caminho: caminho do arquivo a ser prepardo;\n",
    "def prepara_os_dados(caminho):\n",
    "    # Lê arquivo:\n",
    "    df = pd.read_pickle(caminho)\n",
    "    # Substitui -9999.0 por NaN (valor ausente):\n",
    "    df = df.replace(-9999.0, float('nan'))\n",
    "    # Dropa alguns atributos:\n",
    "    df = df.drop(columns=[\"DATA (YYYY-MM-DD)\", \"HORA (UTC)\", \"RADIACAO GLOBAL (KJ/m²)\",\n",
    "                            'RADIACAO GLOBAL (Kj/m²)', 'Hora UTC', 'Data'])\n",
    "    \n",
    "    # Remove as tuplas que contêm qualquer valor NaN e recalcula os índices após a remoção:\n",
    "    df = df.dropna().reset_index()\n",
    "    # Dropa o atributo index:\n",
    "    df = df.drop(columns=['index'])\n",
    "    # Retorna dataframe:\n",
    "    return df"
   ]
  },
  {
   "cell_type": "code",
   "execution_count": 3,
   "metadata": {},
   "outputs": [],
   "source": [
    "df_DF = prepara_os_dados(\"./Dados/dataframe_A001_mod.pkl\")\n",
    "df_AM = prepara_os_dados(\"./Dados/dataframe_A101_mod.pkl\")\n",
    "df_BA = prepara_os_dados(\"./Dados/dataframe_A401_mod.pkl\")\n",
    "df_RJ = prepara_os_dados(\"./Dados/dataframe_A601_mod.pkl\")\n",
    "df_RS = prepara_os_dados(\"./Dados/dataframe_A801_mod.pkl\")"
   ]
  },
  {
   "cell_type": "markdown",
   "metadata": {},
   "source": [
    "# Descreve os dados:"
   ]
  },
  {
   "cell_type": "code",
   "execution_count": 4,
   "metadata": {},
   "outputs": [],
   "source": [
    "atr_temporal = 'Date_mod'"
   ]
  },
  {
   "cell_type": "markdown",
   "metadata": {},
   "source": [
    "## Temperatura do Ar:"
   ]
  },
  {
   "cell_type": "code",
   "execution_count": 5,
   "metadata": {},
   "outputs": [],
   "source": [
    "atr_imagem = 'TEMPERATURA DO AR - BULBO SECO, HORARIA (°C)'"
   ]
  },
  {
   "cell_type": "markdown",
   "metadata": {},
   "source": [
    "### Distrito Federal:"
   ]
  },
  {
   "cell_type": "code",
   "execution_count": null,
   "metadata": {},
   "outputs": [],
   "source": [
    "mdes.plota_grafico_no_tempo_sumarizado_por_dia(df_DF, atr_temporal, atr_imagem, \"Distrito Federal\", \"Temperatura do Ar\")"
   ]
  },
  {
   "cell_type": "code",
   "execution_count": null,
   "metadata": {},
   "outputs": [],
   "source": [
    "mdes.plota_correlograma(df_DF.shape[0], df_DF[atr_imagem].tolist(), 800)"
   ]
  },
  {
   "cell_type": "code",
   "execution_count": null,
   "metadata": {},
   "outputs": [],
   "source": [
    "# mdes.plota_grafico_de_defasagens(df_DF.shape[0], df_DF[atr_imagem].tolist(), 3)\n",
    "mdes.plota_grafico_de_multiplos_graficos_de_defasagens(df_DF.shape[0], df_DF[atr_imagem].tolist(), 9)"
   ]
  },
  {
   "cell_type": "code",
   "execution_count": null,
   "metadata": {},
   "outputs": [],
   "source": [
    "mdes.plota_grafico_de_sazonalidade_de_estacoes_do_ano(df_DF, atr_temporal, atr_imagem)"
   ]
  },
  {
   "cell_type": "code",
   "execution_count": null,
   "metadata": {},
   "outputs": [],
   "source": [
    "mdes.plota_grafico_de_sazonalidade_geral(df_DF, atr_temporal, atr_imagem)"
   ]
  },
  {
   "cell_type": "markdown",
   "metadata": {},
   "source": [
    "### Manaus:"
   ]
  },
  {
   "cell_type": "code",
   "execution_count": null,
   "metadata": {},
   "outputs": [],
   "source": [
    "mdes.plota_grafico_no_tempo_sumarizado_por_dia(df_AM, atr_temporal, atr_imagem, \"Manaus\", \"Temperatura do Ar\")"
   ]
  },
  {
   "cell_type": "code",
   "execution_count": null,
   "metadata": {},
   "outputs": [],
   "source": [
    "mdes.plota_correlograma(df_AM.shape[0], df_AM[atr_imagem].tolist(), 800)"
   ]
  },
  {
   "cell_type": "code",
   "execution_count": null,
   "metadata": {},
   "outputs": [],
   "source": [
    "# mdes.plota_grafico_de_defasagens(df_AM.shape[0], df_AM[atr_imagem].tolist(), 3)\n",
    "mdes.plota_grafico_de_multiplos_graficos_de_defasagens(df_AM.shape[0], df_AM[atr_imagem].tolist(), 9)"
   ]
  },
  {
   "cell_type": "code",
   "execution_count": null,
   "metadata": {},
   "outputs": [],
   "source": [
    "mdes.plota_grafico_de_sazonalidade_de_estacoes_do_ano(df_AM, atr_temporal, atr_imagem)"
   ]
  },
  {
   "cell_type": "code",
   "execution_count": null,
   "metadata": {},
   "outputs": [],
   "source": [
    "mdes.plota_grafico_de_sazonalidade_geral(df_AM, atr_temporal, atr_imagem)"
   ]
  },
  {
   "cell_type": "markdown",
   "metadata": {},
   "source": [
    "### Salvador:"
   ]
  },
  {
   "cell_type": "code",
   "execution_count": null,
   "metadata": {},
   "outputs": [],
   "source": [
    "mdes.plota_grafico_no_tempo_sumarizado_por_dia(df_BA, atr_temporal, atr_imagem, \"Salvador\", \"Temperatura do Ar\")"
   ]
  },
  {
   "cell_type": "code",
   "execution_count": null,
   "metadata": {},
   "outputs": [],
   "source": [
    "mdes.plota_correlograma(df_BA.shape[0], df_BA[atr_imagem].tolist(), 800)"
   ]
  },
  {
   "cell_type": "code",
   "execution_count": null,
   "metadata": {},
   "outputs": [],
   "source": [
    "# mdes.plota_grafico_de_defasagens(df_BA.shape[0], df_BA[atr_imagem].tolist(), 3)\n",
    "mdes.plota_grafico_de_multiplos_graficos_de_defasagens(df_BA.shape[0], df_BA[atr_imagem].tolist(), 9)"
   ]
  },
  {
   "cell_type": "code",
   "execution_count": null,
   "metadata": {},
   "outputs": [],
   "source": [
    "mdes.plota_grafico_de_sazonalidade_de_estacoes_do_ano(df_BA, atr_temporal, atr_imagem)"
   ]
  },
  {
   "cell_type": "code",
   "execution_count": null,
   "metadata": {},
   "outputs": [],
   "source": [
    "mdes.plota_grafico_de_sazonalidade_geral(df_BA, atr_temporal, atr_imagem)"
   ]
  },
  {
   "cell_type": "markdown",
   "metadata": {},
   "source": [
    "### Rio de Janeiro:"
   ]
  },
  {
   "cell_type": "code",
   "execution_count": null,
   "metadata": {},
   "outputs": [],
   "source": [
    "mdes.plota_grafico_no_tempo_sumarizado_por_dia(df_RJ, atr_temporal, atr_imagem, \"Rio de Janeiro\", \"Temperatura do Ar\")"
   ]
  },
  {
   "cell_type": "code",
   "execution_count": null,
   "metadata": {},
   "outputs": [],
   "source": [
    "mdes.plota_correlograma(df_RJ.shape[0], df_RJ[atr_imagem].tolist(), 800)"
   ]
  },
  {
   "cell_type": "code",
   "execution_count": null,
   "metadata": {},
   "outputs": [],
   "source": [
    "# mdes.plota_grafico_de_defasagens(df_RJ.shape[0], df_RJ[atr_imagem].tolist(), 3)\n",
    "mdes.plota_grafico_de_multiplos_graficos_de_defasagens(df_RJ.shape[0], df_RJ[atr_imagem].tolist(), 9)"
   ]
  },
  {
   "cell_type": "code",
   "execution_count": null,
   "metadata": {},
   "outputs": [],
   "source": [
    "mdes.plota_grafico_de_sazonalidade_de_estacoes_do_ano(df_RJ, atr_temporal, atr_imagem)"
   ]
  },
  {
   "cell_type": "code",
   "execution_count": null,
   "metadata": {},
   "outputs": [],
   "source": [
    "mdes.plota_grafico_de_sazonalidade_geral(df_RJ, atr_temporal, atr_imagem)"
   ]
  },
  {
   "cell_type": "markdown",
   "metadata": {},
   "source": [
    "### Porto Alegre:"
   ]
  },
  {
   "cell_type": "code",
   "execution_count": null,
   "metadata": {},
   "outputs": [],
   "source": [
    "mdes.plota_grafico_no_tempo_sumarizado_por_dia(df_RS, atr_temporal, atr_imagem, \"Porto Alegre\", \"Temperatura do Ar\")"
   ]
  },
  {
   "cell_type": "code",
   "execution_count": null,
   "metadata": {},
   "outputs": [],
   "source": [
    "mdes.plota_correlograma(df_RS.shape[0], df_RS[atr_imagem].tolist(), 800)"
   ]
  },
  {
   "cell_type": "code",
   "execution_count": null,
   "metadata": {},
   "outputs": [],
   "source": [
    "# mdes.plota_grafico_de_defasagens(df_RS.shape[0], df_RS[atr_imagem].tolist(), 3)\n",
    "mdes.plota_grafico_de_multiplos_graficos_de_defasagens(df_RS.shape[0], df_RS[atr_imagem].tolist(), 9)"
   ]
  },
  {
   "cell_type": "code",
   "execution_count": null,
   "metadata": {},
   "outputs": [],
   "source": [
    "mdes.plota_grafico_de_sazonalidade_de_estacoes_do_ano(df_RS, atr_temporal, atr_imagem)"
   ]
  },
  {
   "cell_type": "code",
   "execution_count": null,
   "metadata": {},
   "outputs": [],
   "source": [
    "mdes.plota_grafico_de_sazonalidade_geral(df_RS, atr_temporal, atr_imagem)"
   ]
  },
  {
   "cell_type": "markdown",
   "metadata": {},
   "source": [
    "## Precipitação:"
   ]
  },
  {
   "cell_type": "code",
   "execution_count": 31,
   "metadata": {},
   "outputs": [],
   "source": [
    "atr_imagem = 'PRECIPITAÇÃO TOTAL, HORÁRIO (mm)'"
   ]
  },
  {
   "cell_type": "markdown",
   "metadata": {},
   "source": [
    "### Distrito Federal:"
   ]
  },
  {
   "cell_type": "code",
   "execution_count": null,
   "metadata": {},
   "outputs": [],
   "source": [
    "mdes.plota_grafico_no_tempo_sumarizado_por_dia(df_DF, atr_temporal, atr_imagem, \"Distrito Federal\", \"Precipitação\")"
   ]
  },
  {
   "cell_type": "code",
   "execution_count": null,
   "metadata": {},
   "outputs": [],
   "source": [
    "mdes.plota_correlograma(df_DF.shape[0], df_DF[atr_imagem].tolist(), 800)"
   ]
  },
  {
   "cell_type": "code",
   "execution_count": null,
   "metadata": {},
   "outputs": [],
   "source": [
    "# mdes.plota_grafico_de_defasagens(df_DF.shape[0], df_DF[atr_imagem].tolist(), 3)\n",
    "mdes.plota_grafico_de_multiplos_graficos_de_defasagens(df_DF.shape[0], df_DF[atr_imagem].tolist(), 9)"
   ]
  },
  {
   "cell_type": "code",
   "execution_count": null,
   "metadata": {},
   "outputs": [],
   "source": [
    "mdes.plota_grafico_de_sazonalidade_de_estacoes_do_ano(df_DF, atr_temporal, atr_imagem)"
   ]
  },
  {
   "cell_type": "code",
   "execution_count": null,
   "metadata": {},
   "outputs": [],
   "source": [
    "mdes.plota_grafico_de_sazonalidade_geral(df_DF, atr_temporal, atr_imagem)"
   ]
  },
  {
   "cell_type": "markdown",
   "metadata": {},
   "source": [
    "### Manaus:"
   ]
  },
  {
   "cell_type": "code",
   "execution_count": null,
   "metadata": {},
   "outputs": [],
   "source": [
    "mdes.plota_grafico_no_tempo_sumarizado_por_dia(df_AM, atr_temporal, atr_imagem, \"Manaus\", \"Precipitação\")"
   ]
  },
  {
   "cell_type": "code",
   "execution_count": null,
   "metadata": {},
   "outputs": [],
   "source": [
    "mdes.plota_correlograma(df_AM.shape[0], df_AM[atr_imagem].tolist(), 800)"
   ]
  },
  {
   "cell_type": "code",
   "execution_count": null,
   "metadata": {},
   "outputs": [],
   "source": [
    "# mdes.plota_grafico_de_defasagens(df_AM.shape[0], df_AM[atr_imagem].tolist(), 3)\n",
    "mdes.plota_grafico_de_multiplos_graficos_de_defasagens(df_AM.shape[0], df_AM[atr_imagem].tolist(), 9)"
   ]
  },
  {
   "cell_type": "code",
   "execution_count": null,
   "metadata": {},
   "outputs": [],
   "source": [
    "mdes.plota_grafico_de_sazonalidade_de_estacoes_do_ano(df_AM, atr_temporal, atr_imagem)"
   ]
  },
  {
   "cell_type": "code",
   "execution_count": null,
   "metadata": {},
   "outputs": [],
   "source": [
    "mdes.plota_grafico_de_sazonalidade_geral(df_AM, atr_temporal, atr_imagem)"
   ]
  },
  {
   "cell_type": "markdown",
   "metadata": {},
   "source": [
    "### Salvador:"
   ]
  },
  {
   "cell_type": "code",
   "execution_count": null,
   "metadata": {},
   "outputs": [],
   "source": [
    "mdes.plota_grafico_no_tempo_sumarizado_por_dia(df_BA, atr_temporal, atr_imagem, \"Salvador\", \"Precipitação\")"
   ]
  },
  {
   "cell_type": "code",
   "execution_count": null,
   "metadata": {},
   "outputs": [],
   "source": [
    "mdes.plota_correlograma(df_BA.shape[0], df_BA[atr_imagem].tolist(), 800)"
   ]
  },
  {
   "cell_type": "code",
   "execution_count": null,
   "metadata": {},
   "outputs": [],
   "source": [
    "# mdes.plota_grafico_de_defasagens(df_BA.shape[0], df_BA[atr_imagem].tolist(), 3)\n",
    "mdes.plota_grafico_de_multiplos_graficos_de_defasagens(df_BA.shape[0], df_BA[atr_imagem].tolist(), 9)"
   ]
  },
  {
   "cell_type": "code",
   "execution_count": null,
   "metadata": {},
   "outputs": [],
   "source": [
    "mdes.plota_grafico_de_sazonalidade_de_estacoes_do_ano(df_BA, atr_temporal, atr_imagem)"
   ]
  },
  {
   "cell_type": "code",
   "execution_count": null,
   "metadata": {},
   "outputs": [],
   "source": [
    "mdes.plota_grafico_de_sazonalidade_geral(df_BA, atr_temporal, atr_imagem)"
   ]
  },
  {
   "cell_type": "markdown",
   "metadata": {},
   "source": [
    "### Rio de Janeiro:"
   ]
  },
  {
   "cell_type": "code",
   "execution_count": null,
   "metadata": {},
   "outputs": [],
   "source": [
    "mdes.plota_grafico_no_tempo_sumarizado_por_dia(df_RJ, atr_temporal, atr_imagem, \"Rio de Janeiro\", \"Precipitação\")"
   ]
  },
  {
   "cell_type": "code",
   "execution_count": null,
   "metadata": {},
   "outputs": [],
   "source": [
    "mdes.plota_correlograma(df_RJ.shape[0], df_RJ[atr_imagem].tolist(), 800)"
   ]
  },
  {
   "cell_type": "code",
   "execution_count": null,
   "metadata": {},
   "outputs": [],
   "source": [
    "# mdes.plota_grafico_de_defasagens(df_RJ.shape[0], df_RJ[atr_imagem].tolist(), 3)\n",
    "mdes.plota_grafico_de_multiplos_graficos_de_defasagens(df_RJ.shape[0], df_RJ[atr_imagem].tolist(), 9)"
   ]
  },
  {
   "cell_type": "code",
   "execution_count": null,
   "metadata": {},
   "outputs": [],
   "source": [
    "mdes.plota_grafico_de_sazonalidade_de_estacoes_do_ano(df_RJ, atr_temporal, atr_imagem)"
   ]
  },
  {
   "cell_type": "code",
   "execution_count": null,
   "metadata": {},
   "outputs": [],
   "source": [
    "mdes.plota_grafico_de_sazonalidade_geral(df_RJ, atr_temporal, atr_imagem)"
   ]
  },
  {
   "cell_type": "markdown",
   "metadata": {},
   "source": [
    "### Porto Alegre:"
   ]
  },
  {
   "cell_type": "code",
   "execution_count": null,
   "metadata": {},
   "outputs": [],
   "source": [
    "mdes.plota_grafico_no_tempo_sumarizado_por_dia(df_RS, atr_temporal, atr_imagem, \"Porto Alegre\", \"Precipitação\")"
   ]
  },
  {
   "cell_type": "code",
   "execution_count": null,
   "metadata": {},
   "outputs": [],
   "source": [
    "mdes.plota_correlograma(df_RS.shape[0], df_RS[atr_imagem].tolist(), 800)"
   ]
  },
  {
   "cell_type": "code",
   "execution_count": null,
   "metadata": {},
   "outputs": [],
   "source": [
    "# mdes.plota_grafico_de_defasagens(df_RS.shape[0], df_RS[atr_imagem].tolist(), 3)\n",
    "mdes.plota_grafico_de_multiplos_graficos_de_defasagens(df_RS.shape[0], df_RS[atr_imagem].tolist(), 9)"
   ]
  },
  {
   "cell_type": "code",
   "execution_count": null,
   "metadata": {},
   "outputs": [],
   "source": [
    "mdes.plota_grafico_de_sazonalidade_de_estacoes_do_ano(df_RS, atr_temporal, atr_imagem)"
   ]
  },
  {
   "cell_type": "code",
   "execution_count": null,
   "metadata": {},
   "outputs": [],
   "source": [
    "mdes.plota_grafico_de_sazonalidade_geral(df_RS, atr_temporal, atr_imagem)"
   ]
  },
  {
   "cell_type": "markdown",
   "metadata": {},
   "source": [
    "## Radiação:"
   ]
  },
  {
   "cell_type": "code",
   "execution_count": 57,
   "metadata": {},
   "outputs": [],
   "source": [
    "atr_imagem = 'RADIACAO_GLOBAL(Kj/m²)_mod'"
   ]
  },
  {
   "cell_type": "markdown",
   "metadata": {},
   "source": [
    "### Distrito Federal:"
   ]
  },
  {
   "cell_type": "code",
   "execution_count": null,
   "metadata": {},
   "outputs": [],
   "source": [
    "mdes.plota_grafico_no_tempo_sumarizado_por_dia(df_DF, atr_temporal, atr_imagem, \"Distrito Federal\", \"Radiação\")"
   ]
  },
  {
   "cell_type": "code",
   "execution_count": null,
   "metadata": {},
   "outputs": [],
   "source": [
    "mdes.plota_correlograma(df_DF.shape[0], df_DF[atr_imagem].tolist(), 800)"
   ]
  },
  {
   "cell_type": "code",
   "execution_count": null,
   "metadata": {},
   "outputs": [],
   "source": [
    "# mdes.plota_grafico_de_defasagens(df_DF.shape[0], df_DF[atr_imagem].tolist(), 3)\n",
    "mdes.plota_grafico_de_multiplos_graficos_de_defasagens(df_DF.shape[0], df_DF[atr_imagem].tolist(), 9)"
   ]
  },
  {
   "cell_type": "code",
   "execution_count": null,
   "metadata": {},
   "outputs": [],
   "source": [
    "mdes.plota_grafico_de_sazonalidade_de_estacoes_do_ano(df_DF, atr_temporal, atr_imagem)"
   ]
  },
  {
   "cell_type": "code",
   "execution_count": null,
   "metadata": {},
   "outputs": [],
   "source": [
    "mdes.plota_grafico_de_sazonalidade_geral(df_DF, atr_temporal, atr_imagem)"
   ]
  },
  {
   "cell_type": "markdown",
   "metadata": {},
   "source": [
    "### Manaus:"
   ]
  },
  {
   "cell_type": "code",
   "execution_count": null,
   "metadata": {},
   "outputs": [],
   "source": [
    "mdes.plota_grafico_no_tempo_sumarizado_por_dia(df_AM, atr_temporal, atr_imagem, \"Manaus\", \"Radiação\")"
   ]
  },
  {
   "cell_type": "code",
   "execution_count": null,
   "metadata": {},
   "outputs": [],
   "source": [
    "mdes.plota_correlograma(df_AM.shape[0], df_AM[atr_imagem].tolist(), 800)"
   ]
  },
  {
   "cell_type": "code",
   "execution_count": null,
   "metadata": {},
   "outputs": [],
   "source": [
    "# mdes.plota_grafico_de_defasagens(df_AM.shape[0], df_AM[atr_imagem].tolist(), 3)\n",
    "mdes.plota_grafico_de_multiplos_graficos_de_defasagens(df_AM.shape[0], df_AM[atr_imagem].tolist(), 9)"
   ]
  },
  {
   "cell_type": "code",
   "execution_count": null,
   "metadata": {},
   "outputs": [],
   "source": [
    "mdes.plota_grafico_de_sazonalidade_de_estacoes_do_ano(df_AM, atr_temporal, atr_imagem)"
   ]
  },
  {
   "cell_type": "code",
   "execution_count": null,
   "metadata": {},
   "outputs": [],
   "source": [
    "mdes.plota_grafico_de_sazonalidade_geral(df_AM, atr_temporal, atr_imagem)"
   ]
  },
  {
   "cell_type": "markdown",
   "metadata": {},
   "source": [
    "### Salvador:"
   ]
  },
  {
   "cell_type": "code",
   "execution_count": null,
   "metadata": {},
   "outputs": [],
   "source": [
    "mdes.plota_grafico_no_tempo_sumarizado_por_dia(df_BA, atr_temporal, atr_imagem, \"Salvador\", \"Radiação\")"
   ]
  },
  {
   "cell_type": "code",
   "execution_count": null,
   "metadata": {},
   "outputs": [],
   "source": [
    "mdes.plota_correlograma(df_BA.shape[0], df_BA[atr_imagem].tolist(), 800)"
   ]
  },
  {
   "cell_type": "code",
   "execution_count": null,
   "metadata": {},
   "outputs": [],
   "source": [
    "# mdes.plota_grafico_de_defasagens(df_BA.shape[0], df_BA[atr_imagem].tolist(), 3)\n",
    "mdes.plota_grafico_de_multiplos_graficos_de_defasagens(df_BA.shape[0], df_BA[atr_imagem].tolist(), 9)"
   ]
  },
  {
   "cell_type": "code",
   "execution_count": null,
   "metadata": {},
   "outputs": [],
   "source": [
    "mdes.plota_grafico_de_sazonalidade_de_estacoes_do_ano(df_BA, atr_temporal, atr_imagem)"
   ]
  },
  {
   "cell_type": "code",
   "execution_count": null,
   "metadata": {},
   "outputs": [],
   "source": [
    "mdes.plota_grafico_de_sazonalidade_geral(df_BA, atr_temporal, atr_imagem)"
   ]
  },
  {
   "cell_type": "markdown",
   "metadata": {},
   "source": [
    "### Rio de Janeiro:"
   ]
  },
  {
   "cell_type": "code",
   "execution_count": null,
   "metadata": {},
   "outputs": [],
   "source": [
    "mdes.plota_grafico_no_tempo_sumarizado_por_dia(df_RJ, atr_temporal, atr_imagem, \"Rio de Janeiro\", \"Radiação\")"
   ]
  },
  {
   "cell_type": "code",
   "execution_count": null,
   "metadata": {},
   "outputs": [],
   "source": [
    "mdes.plota_correlograma(df_RJ.shape[0], df_RJ[atr_imagem].tolist(), 800)"
   ]
  },
  {
   "cell_type": "code",
   "execution_count": null,
   "metadata": {},
   "outputs": [],
   "source": [
    "# mdes.plota_grafico_de_defasagens(df_RJ.shape[0], df_RJ[atr_imagem].tolist(), 3)\n",
    "mdes.plota_grafico_de_multiplos_graficos_de_defasagens(df_RJ.shape[0], df_RJ[atr_imagem].tolist(), 9)"
   ]
  },
  {
   "cell_type": "code",
   "execution_count": null,
   "metadata": {},
   "outputs": [],
   "source": [
    "mdes.plota_grafico_de_sazonalidade_de_estacoes_do_ano(df_RJ, atr_temporal, atr_imagem)"
   ]
  },
  {
   "cell_type": "code",
   "execution_count": null,
   "metadata": {},
   "outputs": [],
   "source": [
    "mdes.plota_grafico_de_sazonalidade_geral(df_RJ, atr_temporal, atr_imagem)"
   ]
  },
  {
   "cell_type": "markdown",
   "metadata": {},
   "source": [
    "### Porto Alegre:"
   ]
  },
  {
   "cell_type": "code",
   "execution_count": null,
   "metadata": {},
   "outputs": [],
   "source": [
    "mdes.plota_grafico_no_tempo_sumarizado_por_dia(df_RS, atr_temporal, atr_imagem, \"Porto Alegre\", \"Radiação\")"
   ]
  },
  {
   "cell_type": "code",
   "execution_count": null,
   "metadata": {},
   "outputs": [],
   "source": [
    "mdes.plota_correlograma(df_RS.shape[0], df_RS[atr_imagem].tolist(), 800)"
   ]
  },
  {
   "cell_type": "code",
   "execution_count": null,
   "metadata": {},
   "outputs": [],
   "source": [
    "# mdes.plota_grafico_de_defasagens(df_RS.shape[0], df_RS[atr_imagem].tolist(), 3)\n",
    "mdes.plota_grafico_de_multiplos_graficos_de_defasagens(df_RS.shape[0], df_RS[atr_imagem].tolist(), 9)"
   ]
  },
  {
   "cell_type": "code",
   "execution_count": null,
   "metadata": {},
   "outputs": [],
   "source": [
    "mdes.plota_grafico_de_sazonalidade_de_estacoes_do_ano(df_RS, atr_temporal, atr_imagem)"
   ]
  },
  {
   "cell_type": "code",
   "execution_count": null,
   "metadata": {},
   "outputs": [],
   "source": [
    "mdes.plota_grafico_de_sazonalidade_geral(df_RS, atr_temporal, atr_imagem)"
   ]
  }
 ],
 "metadata": {
  "kernelspec": {
   "display_name": "meu-ambiente-python",
   "language": "python",
   "name": "python3"
  },
  "language_info": {
   "codemirror_mode": {
    "name": "ipython",
    "version": 3
   },
   "file_extension": ".py",
   "mimetype": "text/x-python",
   "name": "python",
   "nbconvert_exporter": "python",
   "pygments_lexer": "ipython3",
   "version": "3.12.3"
  }
 },
 "nbformat": 4,
 "nbformat_minor": 2
}
